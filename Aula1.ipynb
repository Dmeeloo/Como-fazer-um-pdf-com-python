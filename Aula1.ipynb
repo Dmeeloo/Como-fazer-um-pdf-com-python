{
 "cells": [
  {
   "cell_type": "markdown",
   "id": "d162b3f0",
   "metadata": {},
   "source": [
    "# SEMANA DO PYTHON(DIA 1)"
   ]
  },
  {
   "cell_type": "code",
   "execution_count": 2,
   "id": "8a38092a",
   "metadata": {},
   "outputs": [
    {
     "name": "stdout",
     "output_type": "stream",
     "text": [
      "Hello World\n"
     ]
    }
   ],
   "source": [
    "print(\"Hello World\")"
   ]
  },
  {
   "cell_type": "markdown",
   "id": "c4a6c993",
   "metadata": {},
   "source": [
    "# Armazenar dados em uma variável\n",
    "\n",
    "- começar com número\n",
    "- não pode ter espaço em branco"
   ]
  },
  {
   "cell_type": "code",
   "execution_count": 3,
   "id": "274e3032",
   "metadata": {},
   "outputs": [
    {
     "name": "stdout",
     "output_type": "stream",
     "text": [
      "Digite a descrição do projeto: Desenvolvimento Python\n",
      "Digite a quantidade de horas previstas: 200\n",
      "Digite o valor da hora trabalhada: 150\n",
      "Digite o prazo estimado: 3 meses\n"
     ]
    }
   ],
   "source": [
    "descrição_projeto = input(\"Digite a descrição do projeto: \")\n",
    "horas_previstas = input(\"Digite a quantidade de horas previstas: \")\n",
    "valor_hora = input(\"Digite o valor da hora trabalhada: \")\n",
    "prazo = input(\"Digite o prazo estimado: \")"
   ]
  },
  {
   "cell_type": "code",
   "execution_count": 5,
   "id": "69332db0",
   "metadata": {},
   "outputs": [
    {
     "name": "stdout",
     "output_type": "stream",
     "text": [
      "Desenvolvimento Python 200 150 3 meses\n"
     ]
    }
   ],
   "source": [
    "print(descrição_projeto, horas_previstas, valor_hora, prazo)"
   ]
  },
  {
   "cell_type": "markdown",
   "id": "b25d28c2",
   "metadata": {},
   "source": [
    "## Realizando cálculos com o Python\n",
    "\n",
    "- Valor total = quantidade de horas x valor da hora"
   ]
  },
  {
   "cell_type": "code",
   "execution_count": 7,
   "id": "02029904",
   "metadata": {},
   "outputs": [],
   "source": [
    "valor_total = int(horas_previstas) * int(valor_hora)"
   ]
  },
  {
   "cell_type": "markdown",
   "id": "1ff8b6c7",
   "metadata": {},
   "source": [
    "# Gerando o Orçamento"
   ]
  },
  {
   "cell_type": "code",
   "execution_count": 8,
   "id": "c07526c7",
   "metadata": {},
   "outputs": [
    {
     "name": "stdout",
     "output_type": "stream",
     "text": [
      "Requirement already satisfied: fpdf in c:\\users\\gabri\\anaconda3\\lib\\site-packages (1.7.2)\n"
     ]
    }
   ],
   "source": [
    "!pip install fpdf"
   ]
  },
  {
   "cell_type": "code",
   "execution_count": 9,
   "id": "5aa5dc8a",
   "metadata": {},
   "outputs": [],
   "source": [
    "from fpdf import FPDF"
   ]
  },
  {
   "cell_type": "code",
   "execution_count": 10,
   "id": "927a4c57",
   "metadata": {},
   "outputs": [
    {
     "name": "stdout",
     "output_type": "stream",
     "text": [
      "Orçamento concluído com sucesso!!\n"
     ]
    }
   ],
   "source": [
    "#criando um pdf\n",
    "pdf = FPDF()\n",
    "\n",
    "pdf.add_page()\n",
    "pdf.set_font(\"Arial\")\n",
    "#ultilizando template\n",
    "pdf.image(\"template.png\", x=0, y=0)\n",
    "\n",
    "\n",
    "pdf.text(115, 145, descrição_projeto)\n",
    "pdf.text(115, 160, horas_previstas)\n",
    "pdf.text(115, 175, valor_hora)\n",
    "pdf.text(115, 190, prazo)\n",
    "pdf.text(115, 205, str(valor_total))\n",
    "\n",
    "pdf.output(\"Orçamento.pdf\")\n",
    "print(\"Orçamento concluído com sucesso!!\")"
   ]
  },
  {
   "cell_type": "code",
   "execution_count": null,
   "id": "43aa0895",
   "metadata": {},
   "outputs": [],
   "source": []
  },
  {
   "cell_type": "code",
   "execution_count": null,
   "id": "3776d6d0",
   "metadata": {},
   "outputs": [],
   "source": []
  }
 ],
 "metadata": {
  "kernelspec": {
   "display_name": "Python 3 (ipykernel)",
   "language": "python",
   "name": "python3"
  },
  "language_info": {
   "codemirror_mode": {
    "name": "ipython",
    "version": 3
   },
   "file_extension": ".py",
   "mimetype": "text/x-python",
   "name": "python",
   "nbconvert_exporter": "python",
   "pygments_lexer": "ipython3",
   "version": "3.11.5"
  }
 },
 "nbformat": 4,
 "nbformat_minor": 5
}
